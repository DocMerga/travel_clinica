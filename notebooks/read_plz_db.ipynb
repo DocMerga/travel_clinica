{
 "cells": [
  {
   "cell_type": "code",
   "execution_count": 30,
   "metadata": {},
   "outputs": [],
   "source": [
    "import pandas as pd\n",
    "import sqlite3\n",
    "import numpy as np"
   ]
  },
  {
   "cell_type": "code",
   "execution_count": 31,
   "metadata": {},
   "outputs": [
    {
     "data": {
      "text/html": [
       "<div>\n",
       "<style scoped>\n",
       "    .dataframe tbody tr th:only-of-type {\n",
       "        vertical-align: middle;\n",
       "    }\n",
       "\n",
       "    .dataframe tbody tr th {\n",
       "        vertical-align: top;\n",
       "    }\n",
       "\n",
       "    .dataframe thead th {\n",
       "        text-align: right;\n",
       "    }\n",
       "</style>\n",
       "<table border=\"1\" class=\"dataframe\">\n",
       "  <thead>\n",
       "    <tr style=\"text-align: right;\">\n",
       "      <th></th>\n",
       "      <th>plz</th>\n",
       "      <th>lat</th>\n",
       "      <th>lng</th>\n",
       "    </tr>\n",
       "  </thead>\n",
       "  <tbody>\n",
       "    <tr>\n",
       "      <th>0</th>\n",
       "      <td>01067</td>\n",
       "      <td>51.057550</td>\n",
       "      <td>13.717065</td>\n",
       "    </tr>\n",
       "    <tr>\n",
       "      <th>1</th>\n",
       "      <td>01069</td>\n",
       "      <td>51.039135</td>\n",
       "      <td>13.737675</td>\n",
       "    </tr>\n",
       "    <tr>\n",
       "      <th>2</th>\n",
       "      <td>01097</td>\n",
       "      <td>51.065908</td>\n",
       "      <td>13.736152</td>\n",
       "    </tr>\n",
       "    <tr>\n",
       "      <th>3</th>\n",
       "      <td>01099</td>\n",
       "      <td>51.087188</td>\n",
       "      <td>13.802804</td>\n",
       "    </tr>\n",
       "    <tr>\n",
       "      <th>4</th>\n",
       "      <td>01108</td>\n",
       "      <td>51.144324</td>\n",
       "      <td>13.799706</td>\n",
       "    </tr>\n",
       "  </tbody>\n",
       "</table>\n",
       "</div>"
      ],
      "text/plain": [
       "     plz        lat        lng\n",
       "0  01067  51.057550  13.717065\n",
       "1  01069  51.039135  13.737675\n",
       "2  01097  51.065908  13.736152\n",
       "3  01099  51.087188  13.802804\n",
       "4  01108  51.144324  13.799706"
      ]
     },
     "execution_count": 31,
     "metadata": {},
     "output_type": "execute_result"
    }
   ],
   "source": [
    "plz_df = pd. read_excel(r\"..\\data\\external\\plz_geocoord.xlsx\", names=[\"plz\",\"lat\",\"lng\"], dtype={\"plz\": np.str_})\n",
    "plz_df.head()"
   ]
  },
  {
   "cell_type": "code",
   "execution_count": 43,
   "metadata": {},
   "outputs": [],
   "source": [
    "conn = sqlite3.connect(r\"..\\data\\processed\\plz.sqlite\")\n",
    "cur = conn.cursor()"
   ]
  },
  {
   "cell_type": "code",
   "execution_count": null,
   "metadata": {},
   "outputs": [
    {
     "data": {
      "text/plain": [
       "<sqlite3.Cursor at 0x21f92debbc0>"
      ]
     },
     "execution_count": 44,
     "metadata": {},
     "output_type": "execute_result"
    }
   ],
   "source": [
    "# cur.execute(\"DROP TABLE IF EXISTS Plz\")"
   ]
  },
  {
   "cell_type": "code",
   "execution_count": 45,
   "metadata": {},
   "outputs": [
    {
     "data": {
      "text/plain": [
       "<sqlite3.Cursor at 0x21f92debbc0>"
      ]
     },
     "execution_count": 45,
     "metadata": {},
     "output_type": "execute_result"
    }
   ],
   "source": [
    "cur.execute(\"\"\"CREATE TABLE IF NOT EXISTS Plz (\n",
    "                id  INTEGER PRIMARY KEY,                \n",
    "                plz TEXT UNIQUE,\n",
    "                lat REAL,\n",
    "                lng REAL,                \n",
    "                car_distance_lmu INTEGER,\n",
    "                car_time_lmu INTEGER,\n",
    "                car_distance_tum INTEGER,\n",
    "                car_time_tum INTEGER,\n",
    "                car_distance_würzburg INTEGER,\n",
    "                car_time_würzburg INTEGER,\n",
    "                car_distance_erlangen INTEGER,\n",
    "                car_time_erlangen INTEGER,\n",
    "                car_distance_regensburg INTEGER,\n",
    "                car_time_regensburg INTEGER,\n",
    "                car_distance_augsburg INTEGER,\n",
    "                car_time_augsburg INTEGER,\n",
    "                transit_distance_lmu INTEGER,\n",
    "                transit_time_lmu INTEGER,\n",
    "                transit_distance_tum INTEGER,\n",
    "                transit_time_tum INTEGER,\n",
    "                transit_distance_würzburg INTEGER,\n",
    "                transit_time_würzburg INTEGER,\n",
    "                transit_distance_erlangen INTEGER,\n",
    "                transit_time_erlangen INTEGER,\n",
    "                transit_distance_regensburg INTEGER,\n",
    "                transit_time_regensburg INTEGER,\n",
    "                transit_distance_augsburg INTEGER,\n",
    "                transit_time_augsburg INTEGER,\n",
    "                google_retrieved INTEGER,\n",
    "                date_calc TEXT\n",
    "            )\"\"\")"
   ]
  },
  {
   "cell_type": "code",
   "execution_count": 46,
   "metadata": {},
   "outputs": [],
   "source": [
    "for i in range(len(plz_df)):\n",
    "\n",
    "    plz = plz_df.iloc[i][\"plz\"]\n",
    "    lat = plz_df.iloc[i][\"lat\"]\n",
    "    lng = plz_df.iloc[i][\"lng\"]\n",
    "    #print(plz, lat, lng)\n",
    "\n",
    "    cur.execute(\"\"\"INSERT OR IGNORE INTO Plz    (plz,   lat,    lng,    google_retrieved)\n",
    "                                        VALUES  (?,     ?,      ?,      0)\"\"\",\n",
    "                                                (plz,   lat,    lng))        "
   ]
  },
  {
   "cell_type": "code",
   "execution_count": 48,
   "metadata": {},
   "outputs": [
    {
     "ename": "ProgrammingError",
     "evalue": "Cannot operate on a closed database.",
     "output_type": "error",
     "traceback": [
      "\u001b[1;31m---------------------------------------------------------------------------\u001b[0m",
      "\u001b[1;31mProgrammingError\u001b[0m                          Traceback (most recent call last)",
      "Cell \u001b[1;32mIn[48], line 1\u001b[0m\n\u001b[1;32m----> 1\u001b[0m conn\u001b[38;5;241m.\u001b[39mcommit()\n\u001b[0;32m      2\u001b[0m cur\u001b[38;5;241m.\u001b[39mclose()\n\u001b[0;32m      3\u001b[0m conn\u001b[38;5;241m.\u001b[39mclose()\n",
      "\u001b[1;31mProgrammingError\u001b[0m: Cannot operate on a closed database."
     ]
    }
   ],
   "source": [
    "conn.commit()\n",
    "cur.close()\n",
    "conn.close()"
   ]
  },
  {
   "cell_type": "code",
   "execution_count": null,
   "metadata": {},
   "outputs": [],
   "source": []
  }
 ],
 "metadata": {
  "kernelspec": {
   "display_name": "bzkf_c",
   "language": "python",
   "name": "python3"
  },
  "language_info": {
   "codemirror_mode": {
    "name": "ipython",
    "version": 3
   },
   "file_extension": ".py",
   "mimetype": "text/x-python",
   "name": "python",
   "nbconvert_exporter": "python",
   "pygments_lexer": "ipython3",
   "version": "3.12.8"
  }
 },
 "nbformat": 4,
 "nbformat_minor": 2
}
