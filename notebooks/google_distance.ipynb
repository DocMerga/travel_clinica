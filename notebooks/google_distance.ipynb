{
 "cells": [
  {
   "cell_type": "markdown",
   "metadata": {},
   "source": [
    "***\n",
    "@author: jmeier<br>\n",
    "date: 05. january 2024<br>\n",
    "short description: \n",
    "-  Programm uses clincia addresses and community coordinates (from database)<br>\n",
    "-  Uses googlemaps distance matrix API to get the distance and travel times from each community to all clinica<br>\n",
    "-  Calculates travel times by car or transit at selectable depature_times<br>\n",
    "-  Updates database with travel distances and times<br>\n",
    "***"
   ]
  },
  {
   "cell_type": "markdown",
   "metadata": {},
   "source": [
    "<div class=\"alert alert-box alert-danger\"><b>Caveat:</b> Google distance matrix service is fee-based!<br> \n",
    "~50€ for calculation of travel times/distances for all bavarian communities with a population > 5000 (to all clinica with car and transit) <br>\n",
    "<b>Google API key must be entered in file auth.py</b></div>"
   ]
  },
  {
   "cell_type": "code",
   "execution_count": 1,
   "metadata": {},
   "outputs": [],
   "source": [
    "import googlemaps\n",
    "import sqlite3\n",
    "from datetime import datetime\n",
    "import sys\n",
    "import os\n",
    "import importlib.util\n",
    "\n",
    "# Absoluten Pfad zum gewünschten Ordner ermitteln\n",
    "notebook_dir = os.path.abspath(os.path.join(os.getcwd(), \"..\", \"..\", \"hidden\"))\n",
    "\n",
    "# Pfad zu sys.path hinzufügen\n",
    "if notebook_dir not in sys.path:\n",
    "    sys.path.append(notebook_dir)\n",
    "\n",
    "# Modul dynamisch importieren\n",
    "auth_path = os.path.join(notebook_dir, \"auth.py\")\n",
    "spec = importlib.util.spec_from_file_location(\"auth\", auth_path)\n",
    "auth = importlib.util.module_from_spec(spec)\n",
    "spec.loader.exec_module(auth)\n",
    "\n",
    "from auth import google_auth # Personal Google API key is saved separately"
   ]
  },
  {
   "cell_type": "code",
   "execution_count": 15,
   "metadata": {},
   "outputs": [],
   "source": [
    "conn = sqlite3.connect(\"../communities/communities.sqlite\")\n",
    "cur = conn.cursor()"
   ]
  },
  {
   "cell_type": "code",
   "execution_count": 16,
   "metadata": {},
   "outputs": [],
   "source": [
    "# Loads personalGgoogle API key and initializes googlemaps Client with it\n",
    "auth_google = auth()\n",
    "gmaps = googlemaps.Client(key=auth_google)"
   ]
  },
  {
   "cell_type": "code",
   "execution_count": 17,
   "metadata": {},
   "outputs": [],
   "source": [
    "# Sets the destinations all (clinica) and the depature time\n",
    "destinations = [\"LMU Klinikum Campus Großhadern Marchioninistraße 15, 81377 München, Germany\",\n",
    "                \"Klinikum rechts der Isar der Technischen Universität München Ismaninger Str. 22, 81675 München, Germany\",\n",
    "                \"Universitätsklinikum Würzburg Josef-Schneider-Straße 2, 97080 Würzburg, Germany\",\n",
    "                \"Universitätsklinikum Erlangen Maximilianspl. 2, 91054 Erlangen, Germany\",\n",
    "                \"Universitätsklinikum Regensburg Franz-Josef-Strauß-Allee 11, 93053 Regensburg, Germany\",\n",
    "                \"Universitätsklinikum Augsburg Stenglinstraße 2, 86156 Augsburg, Germany\"\n",
    "                ]\n",
    "\n",
    "departure_time = datetime(2024,1,11,7,0,0,0)"
   ]
  },
  {
   "cell_type": "code",
   "execution_count": 20,
   "metadata": {},
   "outputs": [],
   "source": [
    "# Gets the communities  (with postleitzahl, name, latitude, longitude) where google_retrieved=0 (=no travel distance retrieved) and Land=9 (=Bayern) and size >5000\n",
    "cur.execute(\"\"\"SELECT Gemeinde.id, Gemeinde.postleitzahl, Gemeinde.name, Gemeinde.breitengrad, Gemeinde.längengrad, Gemeinde.bevölkerung_insgesamt, Land.id, Land.name\n",
    "            FROM Gemeinde JOIN VB JOIN Kreis JOIN RB JOIN Land \n",
    "                ON  Gemeinde.vb_id  = VB.id\n",
    "                AND VB.kreis_id     = Kreis.id\n",
    "                AND Kreis.rb_id     = RB.id\n",
    "                AND RB.land_id      = Land.id\n",
    "            WHERE Gemeinde.google_retrieved = 0 AND Gemeinde.bevölkerung_insgesamt > 5000 AND Land.id = 9\"\"\")\n",
    "communities = cur.fetchmany(10)"
   ]
  },
  {
   "cell_type": "code",
   "execution_count": 21,
   "metadata": {},
   "outputs": [
    {
     "data": {
      "text/plain": [
       "1"
      ]
     },
     "execution_count": 21,
     "metadata": {},
     "output_type": "execute_result"
    }
   ],
   "source": [
    "len(communities)"
   ]
  },
  {
   "cell_type": "code",
   "execution_count": 22,
   "metadata": {},
   "outputs": [],
   "source": [
    "# If no valid travel is returned by Google (ZERO_RESULTS) the value \"None\" is returned, else the travel distance value\n",
    "def distance(results, community, nr):\n",
    "    if results[\"rows\"][0][\"elements\"][nr][\"status\"] == \"ZERO_RESULTS\":\n",
    "        print(community, \" without results for #\", nr)\n",
    "        return None\n",
    "    elif results[\"rows\"][0][\"elements\"][nr][\"status\"] == \"OK\":\n",
    "        return results[\"rows\"][0][\"elements\"][nr][\"distance\"][\"value\"]\n",
    "    else:\n",
    "        print(\"Unknown status:\")\n",
    "        print(results[\"rows\"][0][\"elements\"][nr][\"status\"])\n"
   ]
  },
  {
   "cell_type": "code",
   "execution_count": 23,
   "metadata": {},
   "outputs": [],
   "source": [
    "# If no valid travel is returned by Google (ZERO_RESULTS) the value \"None\" is returned, else the travel time value\n",
    "def time(results, community, nr):\n",
    "    if results[\"rows\"][0][\"elements\"][nr][\"status\"] == \"ZERO_RESULTS\":\n",
    "        print(community, \" without results for #\", nr)\n",
    "        return None\n",
    "    elif results[\"rows\"][0][\"elements\"][nr][\"status\"] == \"OK\":\n",
    "        return results[\"rows\"][0][\"elements\"][nr][\"duration\"][\"value\"]\n",
    "    else:\n",
    "        print(\"Unknown status:\")\n",
    "        print(results[\"rows\"][0][\"elements\"][nr][\"status\"])"
   ]
  },
  {
   "cell_type": "code",
   "execution_count": 24,
   "metadata": {},
   "outputs": [
    {
     "name": "stdout",
     "output_type": "stream",
     "text": [
      "(6848, '94078', 'Freyung, St', 48.808968, 13.54759, 7261, 9, 'Bayern')  without results for # 0\n",
      "(6848, '94078', 'Freyung, St', 48.808968, 13.54759, 7261, 9, 'Bayern')  without results for # 0\n",
      "(6848, '94078', 'Freyung, St', 48.808968, 13.54759, 7261, 9, 'Bayern')  without results for # 1\n",
      "(6848, '94078', 'Freyung, St', 48.808968, 13.54759, 7261, 9, 'Bayern')  without results for # 1\n",
      "(6848, '94078', 'Freyung, St', 48.808968, 13.54759, 7261, 9, 'Bayern')  without results for # 4\n",
      "(6848, '94078', 'Freyung, St', 48.808968, 13.54759, 7261, 9, 'Bayern')  without results for # 4\n",
      "48.808968,13.54759\n"
     ]
    }
   ],
   "source": [
    "# Loops over all retrieved communities and sends request to google maps distance_matrix (1 community as origin and all clinica as destination)\n",
    "# Gets results for travel by car and travel by transit.\n",
    "# Parses the returned results (JSON Format) using functions \"distance\" and \"time\" (see above) and updates the database &sets google_retrieved = 1\n",
    "for community in communities:\n",
    "    #origins = community[1] + \" \" + community[2] + \", Germany\"\n",
    "    origins = str(community[3]) + \",\" + str(community[4])\n",
    "\n",
    "    results_car = gmaps.distance_matrix(origins=origins, destinations=destinations, departure_time=departure_time, mode=\"driving\")\n",
    "    results_transit = gmaps.distance_matrix(origins=origins, destinations=destinations, departure_time=departure_time, mode=\"transit\")\n",
    "    \n",
    "    google_thur7am_car_distance_lmu = distance(results_car, community, 0)\n",
    "    google_thur7am_car_time_lmu = time(results_car, community, 0)\n",
    "    google_thur7am_car_distance_tum = distance(results_car, community, 1)\n",
    "    google_thur7am_car_time_tum = time(results_car, community, 1)\n",
    "    google_thur7am_car_distance_würzburg = distance(results_car, community, 2)\n",
    "    google_thur7am_car_time_würzburg = time(results_car, community, 2)\n",
    "    google_thur7am_car_distance_erlangen = distance(results_car, community, 3)\n",
    "    google_thur7am_car_time_erlangen = time(results_car, community, 3)\n",
    "    google_thur7am_car_distance_regensburg = distance(results_car, community, 4)\n",
    "    google_thur7am_car_time_regensburg = time(results_car, community, 4)\n",
    "    google_thur7am_car_distance_augsburg = distance(results_car, community, 5)\n",
    "    google_thur7am_car_time_augsburg = time(results_car, community, 5)\n",
    "\n",
    "    google_thur7am_transit_distance_lmu = distance(results_transit, community, 0)\n",
    "    google_thur7am_transit_time_lmu = time(results_transit, community, 0)\n",
    "    google_thur7am_transit_distance_tum = distance(results_transit, community, 1)\n",
    "    google_thur7am_transit_time_tum = time(results_transit, community, 1)\n",
    "    google_thur7am_transit_distance_würzburg = distance(results_transit, community, 2)\n",
    "    google_thur7am_transit_time_würzburg = time(results_transit, community, 2)\n",
    "    google_thur7am_transit_distance_erlangen = distance(results_transit, community, 3)\n",
    "    google_thur7am_transit_time_erlangen = time(results_transit, community, 3)\n",
    "    google_thur7am_transit_distance_regensburg = distance(results_transit, community, 4)\n",
    "    google_thur7am_transit_time_regensburg = time(results_transit, community, 4)\n",
    "    google_thur7am_transit_distance_augsburg = distance(results_transit, community, 5)\n",
    "    google_thur7am_transit_time_augsburg = time(results_transit, community, 5)\n",
    "\n",
    "    cur.execute(\"\"\"UPDATE Gemeinde SET \n",
    "                        google_thur7am_car_distance_lmu =?,             /*1*/\n",
    "                        google_thur7am_car_time_lmu =?,\n",
    "                        google_thur7am_car_distance_tum =?,\n",
    "                        google_thur7am_car_time_tum =?,\n",
    "                        google_thur7am_car_distance_würzburg =?,        /*5*/\n",
    "                        google_thur7am_car_time_würzburg =?,\n",
    "                        google_thur7am_car_distance_erlangen =?,\n",
    "                        google_thur7am_car_time_erlangen =?,\n",
    "                        google_thur7am_car_distance_regensburg =?,\n",
    "                        google_thur7am_car_time_regensburg =?,          /*10*/\n",
    "                        google_thur7am_car_distance_augsburg =?,\n",
    "                        google_thur7am_car_time_augsburg =?,\n",
    "                        google_thur7am_transit_distance_lmu =?,\n",
    "                        google_thur7am_transit_time_lmu =?,\n",
    "                        google_thur7am_transit_distance_tum =?,         /*15*/\n",
    "                        google_thur7am_transit_time_tum =?,\n",
    "                        google_thur7am_transit_distance_würzburg =?,\n",
    "                        google_thur7am_transit_time_würzburg =?,\n",
    "                        google_thur7am_transit_distance_erlangen =?,\n",
    "                        google_thur7am_transit_time_erlangen =?,        /*20*/\n",
    "                        google_thur7am_transit_distance_regensburg =?,\n",
    "                        google_thur7am_transit_time_regensburg =?,\n",
    "                        google_thur7am_transit_distance_augsburg =?,\n",
    "                        google_thur7am_transit_time_augsburg =?,\n",
    "                        google_retrieved =1                             /*25*/\n",
    "                    WHERE id=?\"\"\",\n",
    "                    (   google_thur7am_car_distance_lmu,                #1\n",
    "                        google_thur7am_car_time_lmu,\n",
    "                        google_thur7am_car_distance_tum,\n",
    "                        google_thur7am_car_time_tum,\n",
    "                        google_thur7am_car_distance_würzburg,           #5\n",
    "                        google_thur7am_car_time_würzburg,\n",
    "                        google_thur7am_car_distance_erlangen,\n",
    "                        google_thur7am_car_time_erlangen,\n",
    "                        google_thur7am_car_distance_regensburg,\n",
    "                        google_thur7am_car_time_regensburg,             #10\n",
    "                        google_thur7am_car_distance_augsburg,\n",
    "                        google_thur7am_car_time_augsburg,\n",
    "                        google_thur7am_transit_distance_lmu,\n",
    "                        google_thur7am_transit_time_lmu,\n",
    "                        google_thur7am_transit_distance_tum,            #15\n",
    "                        google_thur7am_transit_time_tum,\n",
    "                        google_thur7am_transit_distance_würzburg,\n",
    "                        google_thur7am_transit_time_würzburg,\n",
    "                        google_thur7am_transit_distance_erlangen,\n",
    "                        google_thur7am_transit_time_erlangen,           #20\n",
    "                        google_thur7am_transit_distance_regensburg,\n",
    "                        google_thur7am_transit_time_regensburg,\n",
    "                        google_thur7am_transit_distance_augsburg,\n",
    "                        google_thur7am_transit_time_augsburg,\n",
    "                                                                        #25\n",
    "                    community[0]))         \n",
    "    print(origins)\n",
    "conn.commit()                         \n",
    "\n"
   ]
  },
  {
   "cell_type": "code",
   "execution_count": 12,
   "metadata": {},
   "outputs": [
    {
     "data": {
      "text/plain": [
       "{'destination_addresses': ['Marchioninistraße 15, 81377 München, Germany',\n",
       "  'Ismaninger Str. 22, 81675 München, Germany',\n",
       "  'Josef-Schneider-Straße 2, 97080 Würzburg, Germany',\n",
       "  'Maximilianspl. 2, 91054 Erlangen, Germany',\n",
       "  'Franz-Josef-Strauß-Allee 11, 93053 Regensburg, Germany',\n",
       "  'Stenglinstraße 2, 86156 Augsburg, Germany'],\n",
       " 'origin_addresses': ['47.640846,10.126481'],\n",
       " 'rows': [{'elements': [{'status': 'ZERO_RESULTS'},\n",
       "    {'status': 'ZERO_RESULTS'},\n",
       "    {'status': 'ZERO_RESULTS'},\n",
       "    {'status': 'ZERO_RESULTS'},\n",
       "    {'status': 'ZERO_RESULTS'},\n",
       "    {'status': 'ZERO_RESULTS'}]}],\n",
       " 'status': 'OK'}"
      ]
     },
     "execution_count": 12,
     "metadata": {},
     "output_type": "execute_result"
    }
   ],
   "source": [
    "results_transit"
   ]
  },
  {
   "cell_type": "code",
   "execution_count": 13,
   "metadata": {},
   "outputs": [],
   "source": [
    "cur.close()\n",
    "conn.close()"
   ]
  }
 ],
 "metadata": {
  "kernelspec": {
   "display_name": "bzkf_c",
   "language": "python",
   "name": "python3"
  },
  "language_info": {
   "codemirror_mode": {
    "name": "ipython",
    "version": 3
   },
   "file_extension": ".py",
   "mimetype": "text/x-python",
   "name": "python",
   "nbconvert_exporter": "python",
   "pygments_lexer": "ipython3",
   "version": "3.12.8"
  }
 },
 "nbformat": 4,
 "nbformat_minor": 2
}
