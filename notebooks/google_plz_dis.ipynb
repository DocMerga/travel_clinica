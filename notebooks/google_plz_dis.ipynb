{
 "cells": [
  {
   "cell_type": "code",
   "execution_count": 1,
   "metadata": {},
   "outputs": [],
   "source": [
    "import googlemaps\n",
    "import sqlite3\n",
    "from datetime import datetime\n",
    "import sys\n",
    "import os\n",
    "import importlib.util\n",
    "\n",
    "# Absoluten Pfad zum gewünschten Ordner ermitteln\n",
    "notebook_dir = os.path.abspath(os.path.join(os.getcwd(), \"..\", \"..\", \"hidden\"))\n",
    "\n",
    "# Pfad zu sys.path hinzufügen\n",
    "if notebook_dir not in sys.path:\n",
    "    sys.path.append(notebook_dir)\n",
    "\n",
    "# Modul dynamisch importieren\n",
    "auth_path = os.path.join(notebook_dir, \"auth.py\")\n",
    "spec = importlib.util.spec_from_file_location(\"auth\", auth_path)\n",
    "auth = importlib.util.module_from_spec(spec)\n",
    "spec.loader.exec_module(auth)\n",
    "\n",
    "from auth import google_auth # Personal Google API key is saved separately"
   ]
  },
  {
   "cell_type": "code",
   "execution_count": 2,
   "metadata": {},
   "outputs": [],
   "source": [
    "conn = sqlite3.connect(r\"..\\data\\processed\\plz.sqlite\")\n",
    "cur = conn.cursor()"
   ]
  },
  {
   "cell_type": "code",
   "execution_count": 3,
   "metadata": {},
   "outputs": [
    {
     "ename": "ValueError",
     "evalue": "Invalid API key provided.",
     "output_type": "error",
     "traceback": [
      "\u001b[1;31m---------------------------------------------------------------------------\u001b[0m",
      "\u001b[1;31mValueError\u001b[0m                                Traceback (most recent call last)",
      "Cell \u001b[1;32mIn[3], line 3\u001b[0m\n\u001b[0;32m      1\u001b[0m \u001b[38;5;66;03m# Loads personalGgoogle API key and initializes googlemaps Client with it\u001b[39;00m\n\u001b[0;32m      2\u001b[0m auth_google \u001b[38;5;241m=\u001b[39m google_auth()\n\u001b[1;32m----> 3\u001b[0m gmaps \u001b[38;5;241m=\u001b[39m googlemaps\u001b[38;5;241m.\u001b[39mClient(key\u001b[38;5;241m=\u001b[39mauth_google)\n",
      "File \u001b[1;32mc:\\Users\\Admin\\anaconda3\\envs\\bzkf_c\\Lib\\site-packages\\googlemaps\\client.py:144\u001b[0m, in \u001b[0;36mClient.__init__\u001b[1;34m(self, key, client_id, client_secret, timeout, connect_timeout, read_timeout, retry_timeout, requests_kwargs, queries_per_second, queries_per_minute, channel, retry_over_query_limit, experience_id, requests_session, base_url)\u001b[0m\n\u001b[0;32m    140\u001b[0m     \u001b[38;5;28;01mraise\u001b[39;00m \u001b[38;5;167;01mValueError\u001b[39;00m(\u001b[38;5;124m\"\u001b[39m\u001b[38;5;124mMust provide API key or enterprise credentials \u001b[39m\u001b[38;5;124m\"\u001b[39m\n\u001b[0;32m    141\u001b[0m                      \u001b[38;5;124m\"\u001b[39m\u001b[38;5;124mwhen creating client.\u001b[39m\u001b[38;5;124m\"\u001b[39m)\n\u001b[0;32m    143\u001b[0m \u001b[38;5;28;01mif\u001b[39;00m key \u001b[38;5;129;01mand\u001b[39;00m \u001b[38;5;129;01mnot\u001b[39;00m key\u001b[38;5;241m.\u001b[39mstartswith(\u001b[38;5;124m\"\u001b[39m\u001b[38;5;124mAIza\u001b[39m\u001b[38;5;124m\"\u001b[39m):\n\u001b[1;32m--> 144\u001b[0m     \u001b[38;5;28;01mraise\u001b[39;00m \u001b[38;5;167;01mValueError\u001b[39;00m(\u001b[38;5;124m\"\u001b[39m\u001b[38;5;124mInvalid API key provided.\u001b[39m\u001b[38;5;124m\"\u001b[39m)\n\u001b[0;32m    146\u001b[0m \u001b[38;5;28;01mif\u001b[39;00m channel:\n\u001b[0;32m    147\u001b[0m     \u001b[38;5;28;01mif\u001b[39;00m \u001b[38;5;129;01mnot\u001b[39;00m re\u001b[38;5;241m.\u001b[39mmatch(\u001b[38;5;124m\"\u001b[39m\u001b[38;5;124m^[a-zA-Z0-9._-]*$\u001b[39m\u001b[38;5;124m\"\u001b[39m, channel):\n",
      "\u001b[1;31mValueError\u001b[0m: Invalid API key provided."
     ]
    }
   ],
   "source": [
    "# Loads personalGgoogle API key and initializes googlemaps Client with it\n",
    "auth_google = google_auth()\n",
    "gmaps = googlemaps.Client(key=auth_google)"
   ]
  },
  {
   "cell_type": "code",
   "execution_count": 148,
   "metadata": {},
   "outputs": [],
   "source": [
    "# cur.execute(\"\"\"SELECT id, plz, lat, lng FROM Plz WHERE google_retrieved = 0\"\"\")\n",
    "cur.execute(\"\"\" SELECT id, plz, lat, lng \n",
    "                FROM Plz \n",
    "                WHERE google_retrieved = 0 \n",
    "                AND (plz LIKE '8%' OR plz LIKE '9%' OR plz LIKE '63%')\"\"\")\n",
    "plzs = cur.fetchmany(1)\n",
    "# plzs = cur.fetchall()"
   ]
  },
  {
   "cell_type": "code",
   "execution_count": 149,
   "metadata": {},
   "outputs": [
    {
     "data": {
      "text/plain": [
       "1"
      ]
     },
     "execution_count": 149,
     "metadata": {},
     "output_type": "execute_result"
    }
   ],
   "source": [
    "len(plzs)"
   ]
  },
  {
   "cell_type": "code",
   "execution_count": 150,
   "metadata": {},
   "outputs": [],
   "source": [
    "# Sets the destinations all (clinica) and the depature time\n",
    "destinations = [\"LMU Klinikum Campus Großhadern Marchioninistraße 15, 81377 München, Germany\",\n",
    "                \"Klinikum rechts der Isar der Technischen Universität München Ismaninger Str. 22, 81675 München, Germany\",\n",
    "                \"Universitätsklinikum Würzburg Josef-Schneider-Straße 2, 97080 Würzburg, Germany\",\n",
    "                \"Universitätsklinikum Erlangen Maximilianspl. 2, 91054 Erlangen, Germany\",\n",
    "                \"Universitätsklinikum Regensburg Franz-Josef-Strauß-Allee 11, 93053 Regensburg, Germany\",\n",
    "                \"Universitätsklinikum Augsburg Stenglinstraße 2, 86156 Augsburg, Germany\"\n",
    "                ]\n",
    "\n",
    "departure_time = datetime(2025,3,13,7,0,0,0)\n",
    "depature_time_str = departure_time.strftime(\"%Y/%m/%d, %H:%M\")\n"
   ]
  },
  {
   "cell_type": "code",
   "execution_count": 151,
   "metadata": {},
   "outputs": [
    {
     "name": "stdout",
     "output_type": "stream",
     "text": [
      "2025/03/13, 07:00\n"
     ]
    }
   ],
   "source": [
    "print(depature_time_str)"
   ]
  },
  {
   "cell_type": "code",
   "execution_count": 152,
   "metadata": {},
   "outputs": [],
   "source": [
    "# If no valid travel is returned by Google (ZERO_RESULTS) the value \"None\" is returned, else the travel distance value\n",
    "def distance(results, plz, nr):\n",
    "    if results[\"rows\"][0][\"elements\"][nr][\"status\"] == \"ZERO_RESULTS\":\n",
    "        print(plz, \" without results for #\", nr)\n",
    "        return None\n",
    "    elif results[\"rows\"][0][\"elements\"][nr][\"status\"] == \"OK\":\n",
    "        return results[\"rows\"][0][\"elements\"][nr][\"distance\"][\"value\"]\n",
    "    else:\n",
    "        print(\"Unknown status:\")\n",
    "        print(results[\"rows\"][0][\"elements\"][nr][\"status\"])"
   ]
  },
  {
   "cell_type": "code",
   "execution_count": 153,
   "metadata": {},
   "outputs": [],
   "source": [
    "# If no valid travel is returned by Google (ZERO_RESULTS) the value \"None\" is returned, else the travel time value\n",
    "def time(results, plz, nr):\n",
    "    if results[\"rows\"][0][\"elements\"][nr][\"status\"] == \"ZERO_RESULTS\":\n",
    "        print(plz, \" without results for #\", nr)\n",
    "        return None\n",
    "    elif results[\"rows\"][0][\"elements\"][nr][\"status\"] == \"OK\":\n",
    "        return results[\"rows\"][0][\"elements\"][nr][\"duration\"][\"value\"]\n",
    "    else:\n",
    "        print(\"Unknown status:\")\n",
    "        print(results[\"rows\"][0][\"elements\"][nr][\"status\"])"
   ]
  },
  {
   "cell_type": "code",
   "execution_count": 154,
   "metadata": {},
   "outputs": [
    {
     "name": "stdout",
     "output_type": "stream",
     "text": [
      "1 : 84364 48.4480634,13.0671849\n"
     ]
    }
   ],
   "source": [
    "# Loops over all retrieved communities and sends request to google maps distance_matrix (1 plz as origin and all clinica as destination)\n",
    "# Gets results for travel by car and travel by transit.\n",
    "# Parses the returned results (JSON Format) using functions \"distance\" and \"time\" (see above) and updates the database &sets google_retrieved = 1\n",
    "k = 0\n",
    "for plz in plzs:\n",
    "\n",
    "    k += 1\n",
    "    #origins = plz[1] + \" \" + plz[2] + \", Germany\"\n",
    "    origins = str(plz[2]) + \",\" + str(plz[3])\n",
    "    print(k, \":\",plz[1], origins)    \n",
    "\n",
    "    results_car = gmaps.distance_matrix(origins=origins, destinations=destinations, departure_time=departure_time, mode=\"driving\", traffic_model=\"best_guess\")\n",
    "    results_transit = gmaps.distance_matrix(origins=origins, destinations=destinations, departure_time=departure_time, mode=\"transit\")\n",
    "    \n",
    "    car_distance_lmu = distance(results_car, plz, 0)\n",
    "    car_time_lmu = time(results_car, plz, 0)\n",
    "    car_distance_tum = distance(results_car, plz, 1)\n",
    "    car_time_tum = time(results_car, plz, 1)\n",
    "    car_distance_würzburg = distance(results_car, plz, 2)\n",
    "    car_time_würzburg = time(results_car, plz, 2)\n",
    "    car_distance_erlangen = distance(results_car, plz, 3)\n",
    "    car_time_erlangen = time(results_car, plz, 3)\n",
    "    car_distance_regensburg = distance(results_car, plz, 4)\n",
    "    car_time_regensburg = time(results_car, plz, 4)\n",
    "    car_distance_augsburg = distance(results_car, plz, 5)\n",
    "    car_time_augsburg = time(results_car, plz, 5)\n",
    "\n",
    "    transit_distance_lmu = distance(results_transit, plz, 0)\n",
    "    transit_time_lmu = time(results_transit, plz, 0)\n",
    "    transit_distance_tum = distance(results_transit, plz, 1)\n",
    "    transit_time_tum = time(results_transit, plz, 1)\n",
    "    transit_distance_würzburg = distance(results_transit, plz, 2)\n",
    "    transit_time_würzburg = time(results_transit, plz, 2)\n",
    "    transit_distance_erlangen = distance(results_transit, plz, 3)\n",
    "    transit_time_erlangen = time(results_transit, plz, 3)\n",
    "    transit_distance_regensburg = distance(results_transit, plz, 4)\n",
    "    transit_time_regensburg = time(results_transit, plz, 4)\n",
    "    transit_distance_augsburg = distance(results_transit, plz, 5)\n",
    "    transit_time_augsburg = time(results_transit, plz, 5)\n",
    "\n",
    "    cur.execute(\"\"\"UPDATE Plz SET \n",
    "                        car_distance_lmu =?,             /*1*/\n",
    "                        car_time_lmu =?,\n",
    "                        car_distance_tum =?,\n",
    "                        car_time_tum =?,\n",
    "                        car_distance_würzburg =?,        /*5*/\n",
    "                        car_time_würzburg =?,\n",
    "                        car_distance_erlangen =?,\n",
    "                        car_time_erlangen =?,\n",
    "                        car_distance_regensburg =?,\n",
    "                        car_time_regensburg =?,          /*10*/\n",
    "                        car_distance_augsburg =?,\n",
    "                        car_time_augsburg =?,\n",
    "                        transit_distance_lmu =?,\n",
    "                        transit_time_lmu =?,\n",
    "                        transit_distance_tum =?,         /*15*/\n",
    "                        transit_time_tum =?,\n",
    "                        transit_distance_würzburg =?,\n",
    "                        transit_time_würzburg =?,\n",
    "                        transit_distance_erlangen =?,\n",
    "                        transit_time_erlangen =?,        /*20*/\n",
    "                        transit_distance_regensburg =?,\n",
    "                        transit_time_regensburg =?,\n",
    "                        transit_distance_augsburg =?,\n",
    "                        transit_time_augsburg =?,\n",
    "                        google_retrieved =1,             /*25*/\n",
    "                        date_calc = ?\n",
    "                    WHERE id=?\"\"\",\n",
    "                    (   car_distance_lmu,                #1\n",
    "                        car_time_lmu,\n",
    "                        car_distance_tum,\n",
    "                        car_time_tum,\n",
    "                        car_distance_würzburg,           #5\n",
    "                        car_time_würzburg,\n",
    "                        car_distance_erlangen,\n",
    "                        car_time_erlangen,\n",
    "                        car_distance_regensburg,\n",
    "                        car_time_regensburg,             #10\n",
    "                        car_distance_augsburg,\n",
    "                        car_time_augsburg,\n",
    "                        transit_distance_lmu,\n",
    "                        transit_time_lmu,\n",
    "                        transit_distance_tum,            #15\n",
    "                        transit_time_tum,\n",
    "                        transit_distance_würzburg,\n",
    "                        transit_time_würzburg,\n",
    "                        transit_distance_erlangen,\n",
    "                        transit_time_erlangen,           #20\n",
    "                        transit_distance_regensburg,\n",
    "                        transit_time_regensburg,\n",
    "                        transit_distance_augsburg,\n",
    "                        transit_time_augsburg,\n",
    "                                                                        #25\n",
    "                        depature_time_str,\n",
    "                    plz[0]))         \n",
    "    # print(origins)\n",
    "conn.commit()                         \n",
    "\n"
   ]
  },
  {
   "cell_type": "code",
   "execution_count": 155,
   "metadata": {},
   "outputs": [],
   "source": [
    "cur.close()\n",
    "conn.close()"
   ]
  }
 ],
 "metadata": {
  "kernelspec": {
   "display_name": "bzkf_c",
   "language": "python",
   "name": "python3"
  },
  "language_info": {
   "codemirror_mode": {
    "name": "ipython",
    "version": 3
   },
   "file_extension": ".py",
   "mimetype": "text/x-python",
   "name": "python",
   "nbconvert_exporter": "python",
   "pygments_lexer": "ipython3",
   "version": "3.12.8"
  }
 },
 "nbformat": 4,
 "nbformat_minor": 2
}
